{
 "cells": [
  {
   "cell_type": "markdown",
   "metadata": {},
   "source": [
    "# Loan Prediction"
   ]
  },
  {
   "cell_type": "code",
   "execution_count": 1,
   "metadata": {},
   "outputs": [],
   "source": [
    "import pandas as pd\n",
    "import numpy as np\n",
    "from sklearn import preprocessing\n",
    "import matplotlib.pyplot as plt\n",
    "from sklearn.model_selection import train_test_split\n",
    "from sklearn.linear_model import LinearRegression, RidgeCV\n",
    "from sklearn.metrics import mean_squared_error\n",
    "from sklearn.model_selection import cross_val_score\n",
    "from sklearn.model_selection import RepeatedKFold\n",
    "from sklearn.linear_model import Lasso\n",
    "from numpy import mean\n",
    "from numpy import std\n",
    "from numpy import absolute"
   ]
  },
  {
   "cell_type": "code",
   "execution_count": 2,
   "metadata": {},
   "outputs": [
    {
     "name": "stderr",
     "output_type": "stream",
     "text": [
      "/opt/anaconda3/lib/python3.7/site-packages/IPython/core/interactiveshell.py:3457: DtypeWarning: Columns (15) have mixed types.Specify dtype option on import or set low_memory=False.\n",
      "  exec(code_obj, self.user_global_ns, self.user_ns)\n"
     ]
    }
   ],
   "source": [
    "df_train = pd.read_csv('/Users/tsaichichien/BADM Data Science /Loan_Prediction/Data for Cleaning & Modeling.csv')\n",
    "df_test = pd.read_csv('/Users/tsaichichien/BADM Data Science /Loan_Prediction/Holdout for Testing.csv')"
   ]
  },
  {
   "cell_type": "code",
   "execution_count": 3,
   "metadata": {},
   "outputs": [
    {
     "data": {
      "text/plain": [
       "Index(['X1', 'X2', 'X3', 'X4', 'X5', 'X6', 'X7', 'X8', 'X9', 'X10', 'X11',\n",
       "       'X12', 'X13', 'X14', 'X15', 'X16', 'X17', 'X18', 'X19', 'X20', 'X21',\n",
       "       'X22', 'X23', 'X24', 'X25', 'X26', 'X27', 'X28', 'X29', 'X30', 'X31',\n",
       "       'X32'],\n",
       "      dtype='object')"
      ]
     },
     "execution_count": 3,
     "metadata": {},
     "output_type": "execute_result"
    }
   ],
   "source": [
    "df_train.columns"
   ]
  },
  {
   "cell_type": "markdown",
   "metadata": {},
   "source": [
    "# Data Cleaning"
   ]
  },
  {
   "cell_type": "code",
   "execution_count": 4,
   "metadata": {},
   "outputs": [
    {
     "name": "stdout",
     "output_type": "stream",
     "text": [
      "<class 'pandas.core.frame.DataFrame'>\n",
      "RangeIndex: 400000 entries, 0 to 399999\n",
      "Data columns (total 32 columns):\n",
      " #   Column  Non-Null Count   Dtype  \n",
      "---  ------  --------------   -----  \n",
      " 0   X1      338990 non-null  object \n",
      " 1   X2      399999 non-null  float64\n",
      " 2   X3      399999 non-null  float64\n",
      " 3   X4      399999 non-null  object \n",
      " 4   X5      399999 non-null  object \n",
      " 5   X6      399999 non-null  object \n",
      " 6   X7      399999 non-null  object \n",
      " 7   X8      338730 non-null  object \n",
      " 8   X9      338730 non-null  object \n",
      " 9   X10     376014 non-null  object \n",
      " 10  X11     382462 non-null  object \n",
      " 11  X12     338639 non-null  object \n",
      " 12  X13     338972 non-null  float64\n",
      " 13  X14     399999 non-null  object \n",
      " 14  X15     399999 non-null  object \n",
      " 15  X16     123560 non-null  object \n",
      " 16  X17     399999 non-null  object \n",
      " 17  X18     399981 non-null  object \n",
      " 18  X19     399999 non-null  object \n",
      " 19  X20     399999 non-null  object \n",
      " 20  X21     399999 non-null  float64\n",
      " 21  X22     399999 non-null  float64\n",
      " 22  X23     399999 non-null  object \n",
      " 23  X24     399999 non-null  float64\n",
      " 24  X25     181198 non-null  float64\n",
      " 25  X26     51155 non-null   float64\n",
      " 26  X27     399999 non-null  float64\n",
      " 27  X28     399999 non-null  float64\n",
      " 28  X29     399999 non-null  float64\n",
      " 29  X30     399733 non-null  object \n",
      " 30  X31     399999 non-null  float64\n",
      " 31  X32     399999 non-null  object \n",
      "dtypes: float64(12), object(20)\n",
      "memory usage: 97.7+ MB\n"
     ]
    }
   ],
   "source": [
    "# Check Training data info\n",
    "df_train.info()"
   ]
  },
  {
   "cell_type": "code",
   "execution_count": 5,
   "metadata": {},
   "outputs": [
    {
     "name": "stdout",
     "output_type": "stream",
     "text": [
      "<class 'pandas.core.frame.DataFrame'>\n",
      "RangeIndex: 80000 entries, 0 to 79999\n",
      "Data columns (total 32 columns):\n",
      " #   Column  Non-Null Count  Dtype  \n",
      "---  ------  --------------  -----  \n",
      " 0   X1      0 non-null      float64\n",
      " 1   X2      80000 non-null  int64  \n",
      " 2   X3      80000 non-null  int64  \n",
      " 3   X4      80000 non-null  object \n",
      " 4   X5      80000 non-null  object \n",
      " 5   X6      80000 non-null  object \n",
      " 6   X7      80000 non-null  object \n",
      " 7   X8      80000 non-null  object \n",
      " 8   X9      80000 non-null  object \n",
      " 9   X10     75606 non-null  object \n",
      " 10  X11     75618 non-null  object \n",
      " 11  X12     80000 non-null  object \n",
      " 12  X13     80000 non-null  float64\n",
      " 13  X14     80000 non-null  object \n",
      " 14  X15     80000 non-null  object \n",
      " 15  X16     15 non-null     object \n",
      " 16  X17     80000 non-null  object \n",
      " 17  X18     80000 non-null  object \n",
      " 18  X19     80000 non-null  object \n",
      " 19  X20     80000 non-null  object \n",
      " 20  X21     80000 non-null  float64\n",
      " 21  X22     80000 non-null  int64  \n",
      " 22  X23     80000 non-null  object \n",
      " 23  X24     80000 non-null  int64  \n",
      " 24  X25     41296 non-null  float64\n",
      " 25  X26     13839 non-null  float64\n",
      " 26  X27     80000 non-null  int64  \n",
      " 27  X28     80000 non-null  int64  \n",
      " 28  X29     80000 non-null  int64  \n",
      " 29  X30     79970 non-null  object \n",
      " 30  X31     80000 non-null  int64  \n",
      " 31  X32     80000 non-null  object \n",
      "dtypes: float64(5), int64(8), object(19)\n",
      "memory usage: 19.5+ MB\n"
     ]
    }
   ],
   "source": [
    "df_test.info()"
   ]
  },
  {
   "cell_type": "code",
   "execution_count": 6,
   "metadata": {},
   "outputs": [
    {
     "data": {
      "text/plain": [
       "(400000, 32)"
      ]
     },
     "execution_count": 6,
     "metadata": {},
     "output_type": "execute_result"
    }
   ],
   "source": [
    "df_train.shape"
   ]
  },
  {
   "cell_type": "code",
   "execution_count": 7,
   "metadata": {},
   "outputs": [
    {
     "data": {
      "text/html": [
       "<div><div id=de932f1f-2e0b-436f-899e-c86374b384e3 style=\"display:none; background-color:#9D6CFF; color:white; width:200px; height:30px; padding-left:5px; border-radius:4px; flex-direction:row; justify-content:space-around; align-items:center;\" onmouseover=\"this.style.backgroundColor='#BA9BF8'\" onmouseout=\"this.style.backgroundColor='#9D6CFF'\" onclick=\"window.commands?.execute('create-mitosheet-from-dataframe-output');\">See Full Dataframe in Mito</div> <script> if (window.commands?.hasCommand('create-mitosheet-from-dataframe-output')) document.getElementById('de932f1f-2e0b-436f-899e-c86374b384e3').style.display = 'flex' </script> <table border=\"1\" class=\"dataframe\">\n",
       "  <thead>\n",
       "    <tr style=\"text-align: right;\">\n",
       "      <th></th>\n",
       "      <th>Total</th>\n",
       "      <th>Percent</th>\n",
       "    </tr>\n",
       "  </thead>\n",
       "  <tbody>\n",
       "    <tr>\n",
       "      <th>X26</th>\n",
       "      <td>348845</td>\n",
       "      <td>0.872112</td>\n",
       "    </tr>\n",
       "    <tr>\n",
       "      <th>X16</th>\n",
       "      <td>276440</td>\n",
       "      <td>0.691100</td>\n",
       "    </tr>\n",
       "    <tr>\n",
       "      <th>X25</th>\n",
       "      <td>218802</td>\n",
       "      <td>0.547005</td>\n",
       "    </tr>\n",
       "    <tr>\n",
       "      <th>X12</th>\n",
       "      <td>61361</td>\n",
       "      <td>0.153402</td>\n",
       "    </tr>\n",
       "    <tr>\n",
       "      <th>X8</th>\n",
       "      <td>61270</td>\n",
       "      <td>0.153175</td>\n",
       "    </tr>\n",
       "    <tr>\n",
       "      <th>...</th>\n",
       "      <td>...</td>\n",
       "      <td>...</td>\n",
       "    </tr>\n",
       "    <tr>\n",
       "      <th>X29</th>\n",
       "      <td>1</td>\n",
       "      <td>0.000003</td>\n",
       "    </tr>\n",
       "    <tr>\n",
       "      <th>X31</th>\n",
       "      <td>1</td>\n",
       "      <td>0.000003</td>\n",
       "    </tr>\n",
       "    <tr>\n",
       "      <th>X24</th>\n",
       "      <td>1</td>\n",
       "      <td>0.000003</td>\n",
       "    </tr>\n",
       "    <tr>\n",
       "      <th>X23</th>\n",
       "      <td>1</td>\n",
       "      <td>0.000003</td>\n",
       "    </tr>\n",
       "    <tr>\n",
       "      <th>X22</th>\n",
       "      <td>1</td>\n",
       "      <td>0.000003</td>\n",
       "    </tr>\n",
       "  </tbody>\n",
       "</table></div>"
      ],
      "text/plain": [
       "      Total   Percent\n",
       "X26  348845  0.872112\n",
       "X16  276440  0.691100\n",
       "X25  218802  0.547005\n",
       "X12   61361  0.153402\n",
       "X8    61270  0.153175\n",
       "X9    61270  0.153175\n",
       "X13   61028  0.152570\n",
       "X1    61010  0.152525\n",
       "X10   23986  0.059965\n",
       "X11   17538  0.043845\n",
       "X30     267  0.000668\n",
       "X18      19  0.000048\n",
       "X21       1  0.000003\n",
       "X27       1  0.000003\n",
       "X28       1  0.000003\n",
       "X29       1  0.000003\n",
       "X31       1  0.000003\n",
       "X24       1  0.000003\n",
       "X23       1  0.000003\n",
       "X22       1  0.000003"
      ]
     },
     "execution_count": 7,
     "metadata": {},
     "output_type": "execute_result"
    }
   ],
   "source": [
    "#Missing Value check\n",
    "total = df_train.isnull().sum().sort_values(ascending=False)\n",
    "percent = (df_train.isnull().sum()/df_train.isnull().count()).sort_values(ascending=False)\n",
    "missing_data = pd.concat([total, percent], axis=1, keys=['Total', 'Percent'])\n",
    "missing_data.head(20)"
   ]
  },
  {
   "cell_type": "markdown",
   "metadata": {},
   "source": [
    "## Fill NA column by column:"
   ]
  },
  {
   "cell_type": "markdown",
   "metadata": {},
   "source": [
    "Drop X2 X3 as identifier"
   ]
  },
  {
   "cell_type": "code",
   "execution_count": 8,
   "metadata": {},
   "outputs": [],
   "source": [
    "# drop X2 and X3 from training and test set\n",
    "df_train.drop(['X2', 'X3'], axis=1, inplace=True)\n",
    "df_test.drop(['X2', 'X3'], axis=1, inplace=True)"
   ]
  },
  {
   "cell_type": "markdown",
   "metadata": {},
   "source": [
    "1. X1 (depedent variable) got a missing values of 61010 records"
   ]
  },
  {
   "cell_type": "code",
   "execution_count": 9,
   "metadata": {},
   "outputs": [],
   "source": [
    "# remove '%' from interest rate column and change dtype to numeric\n",
    "df_train['X1'] = pd.to_numeric(df_train['X1'].str.replace('%', ''))/100\n",
    "\n",
    "# drop the rows with missing interest rate values\n",
    "df_train = df_train.dropna(subset=['X1'])"
   ]
  },
  {
   "cell_type": "markdown",
   "metadata": {},
   "source": [
    "2. Remove X4: \n",
    "One row within the training data set with all missing values besides the loan interest rate value. Here we will remove this row:"
   ]
  },
  {
   "cell_type": "code",
   "execution_count": 10,
   "metadata": {},
   "outputs": [],
   "source": [
    "df_train.dropna(subset=['X4'], inplace=True)"
   ]
  },
  {
   "cell_type": "markdown",
   "metadata": {},
   "source": [
    "3. Remove X8, X9 column, since it got a mnissing values over 61,000 records"
   ]
  },
  {
   "cell_type": "code",
   "execution_count": 11,
   "metadata": {},
   "outputs": [],
   "source": [
    "# drop X8 and X9 columns: loan grade and subgrade\n",
    "df_train.dropna(subset=['X8', 'X9'], inplace=True)"
   ]
  },
  {
   "cell_type": "markdown",
   "metadata": {},
   "source": [
    "4. Remove column X16: Description is not useful for Prediction analysis"
   ]
  },
  {
   "cell_type": "code",
   "execution_count": 12,
   "metadata": {},
   "outputs": [],
   "source": [
    "# remove X16 from training set\n",
    "df_train.drop(['X16'], axis=1, inplace=True)\n",
    "\n",
    "# remove X16 from test set\n",
    "df_test.drop(['X16'], axis=1, inplace=True)"
   ]
  },
  {
   "cell_type": "markdown",
   "metadata": {},
   "source": [
    "5. Remove column X10: Borrower-provided job title\n",
    "Unique job title of customers is not useful for prediction"
   ]
  },
  {
   "cell_type": "code",
   "execution_count": 13,
   "metadata": {},
   "outputs": [],
   "source": [
    "# remove X10 from training set\n",
    "df_train.drop(['X10'], axis=1, inplace=True)\n",
    "\n",
    "# remove X10 variable from tests set\n",
    "df_test.drop(['X10'], axis=1, inplace=True)"
   ]
  },
  {
   "cell_type": "markdown",
   "metadata": {},
   "source": [
    "6. Remove rows where X13 column has missing values: Annual Income\n",
    "Although there are more than 61000 missing values, Annual Income can be a good indicator for prediction, thus, we only remove the missing values"
   ]
  },
  {
   "cell_type": "code",
   "execution_count": 14,
   "metadata": {},
   "outputs": [],
   "source": [
    "# drop rows where there are missing values for X13 column from data set\n",
    "df_train.dropna(subset=['X13'], inplace=True)"
   ]
  },
  {
   "cell_type": "markdown",
   "metadata": {},
   "source": [
    "7. Remove X18 column: Loan Title\n",
    "The loan title is only provided by the borrowers, thus, the name is not united. "
   ]
  },
  {
   "cell_type": "code",
   "execution_count": 15,
   "metadata": {},
   "outputs": [],
   "source": [
    "# remove X18 from training set\n",
    "df_train.drop(['X18'], axis=1, inplace=True)\n",
    "\n",
    "# remove X18 variable from test set\n",
    "df_test.drop(['X18'], axis=1, inplace=True)"
   ]
  },
  {
   "cell_type": "markdown",
   "metadata": {},
   "source": [
    "8. Remove X25 and X26 from data sets: # of months since last delinquency and public record\n",
    "Both of the columns got a more than 50% of missing values, thus, we can just remove both columns."
   ]
  },
  {
   "cell_type": "code",
   "execution_count": 16,
   "metadata": {},
   "outputs": [],
   "source": [
    "# remove X25, X26 from training set\n",
    "df_train.drop(['X25', 'X26'], axis=1, inplace=True)\n",
    "\n",
    "# remove X25, X26 variable from test set\n",
    "df_test.drop(['X25', 'X26'], axis=1, inplace=True)"
   ]
  },
  {
   "cell_type": "markdown",
   "metadata": {},
   "source": [
    "9. Remove rows with missing values in X30 column: credit utilization percentage\n",
    "Since there sre only 154 missing values, we will delete from both the training and the test sets"
   ]
  },
  {
   "cell_type": "code",
   "execution_count": 17,
   "metadata": {},
   "outputs": [],
   "source": [
    "# drop rows where there are missing values for X30 column from data set\n",
    "df_train.dropna(subset=['X30'], inplace=True)\n",
    "\n",
    "# convert X30 to numeric data type\n",
    "df_test['X30'] = pd.to_numeric(df_test['X30'].str.replace('%', ''))\n",
    "\n",
    "# fill rows in test data where there are missing values for X30 column with median values\n",
    "df_test['X30'] = df_test['X30'].fillna(df_test.X30.median(axis=0))"
   ]
  },
  {
   "cell_type": "markdown",
   "metadata": {},
   "source": [
    "10. Remove X17: Loan Category (provided by Borrower) from data sets...\n",
    "Category is not important for prediction of interest rate"
   ]
  },
  {
   "cell_type": "code",
   "execution_count": 18,
   "metadata": {},
   "outputs": [],
   "source": [
    "# remove X10 from training set\n",
    "df_train.drop(['X17'], axis=1, inplace=True)\n",
    "\n",
    "# remove X10 variable from test set\n",
    "df_test.drop(['X17'], axis=1, inplace=True)"
   ]
  },
  {
   "cell_type": "markdown",
   "metadata": {},
   "source": [
    "11. Remove X1 empty column from test set "
   ]
  },
  {
   "cell_type": "code",
   "execution_count": 19,
   "metadata": {},
   "outputs": [],
   "source": [
    "df_test.drop(['X1'], axis=1, inplace=True)"
   ]
  },
  {
   "cell_type": "markdown",
   "metadata": {},
   "source": [
    "11. Remove X11 (Years of Employment) column from training and test sets\n",
    "Both dataset got 'n/a' values, however, we don't want to drop the n/a value columns. Therefore, at this point, we will remove the column for both data set"
   ]
  },
  {
   "cell_type": "code",
   "execution_count": 20,
   "metadata": {},
   "outputs": [],
   "source": [
    "df_test.drop(['X11'], axis=1, inplace=True)\n",
    "df_train.drop(['X11'], axis=1, inplace=True)"
   ]
  },
  {
   "cell_type": "markdown",
   "metadata": {},
   "source": [
    "12. Remove X15(Date Loan was Issued) & X23(Date of Earliest Line of Credit)\n",
    "Both values has no meaning for loan interest rate prediction"
   ]
  },
  {
   "cell_type": "code",
   "execution_count": 21,
   "metadata": {},
   "outputs": [],
   "source": [
    "# Remove X15\n",
    "df_test.drop(['X15'], axis=1, inplace=True)\n",
    "df_train.drop(['X15'], axis=1, inplace=True)\n",
    "#Remove\n",
    "df_test.drop(['X23'], axis=1, inplace=True)\n",
    "df_train.drop(['X23'], axis=1, inplace=True)"
   ]
  },
  {
   "cell_type": "markdown",
   "metadata": {},
   "source": [
    "13. Remove X20 column (State)\n",
    "Since we already have X19 column for area code, we can remove X20 state name"
   ]
  },
  {
   "cell_type": "code",
   "execution_count": 22,
   "metadata": {},
   "outputs": [],
   "source": [
    "# drop X20 from trainig and test sets\n",
    "df_test.drop(['X20'], axis=1, inplace=True)\n",
    "df_train.drop(['X20'], axis=1, inplace=True)"
   ]
  },
  {
   "cell_type": "markdown",
   "metadata": {},
   "source": [
    "14. Remove X32 column (Initial Listing Status of Loan) from training and test set\n",
    "Initial Listing status of loan will not have any effect on the Loan interest rate"
   ]
  },
  {
   "cell_type": "code",
   "execution_count": 23,
   "metadata": {},
   "outputs": [],
   "source": [
    "df_test.drop(['X32'], axis=1, inplace=True)\n",
    "df_train.drop(['X32'], axis=1, inplace=True)"
   ]
  },
  {
   "cell_type": "markdown",
   "metadata": {},
   "source": [
    "15. Remove X12 Column (Home Ownership Status)\n",
    "Since there are a few ambiguous categories (i.e. NONE, OTHER, & ANY) AND nan values. It is impossible to have a accurate prediction result."
   ]
  },
  {
   "cell_type": "code",
   "execution_count": 24,
   "metadata": {},
   "outputs": [
    {
     "name": "stdout",
     "output_type": "stream",
     "text": [
      "Unique categories in Home Ownership variable:  ['RENT' 'OWN' 'MORTGAGE' 'NONE' nan 'OTHER' 'ANY']\n"
     ]
    }
   ],
   "source": [
    "print(\"Unique categories in Home Ownership variable: \", df_train['X12'].unique())"
   ]
  },
  {
   "cell_type": "code",
   "execution_count": 25,
   "metadata": {},
   "outputs": [],
   "source": [
    "df_test.drop(['X12'], axis=1, inplace=True)\n",
    "df_train.drop(['X12'], axis=1, inplace=True)"
   ]
  },
  {
   "cell_type": "code",
   "execution_count": 26,
   "metadata": {},
   "outputs": [
    {
     "name": "stderr",
     "output_type": "stream",
     "text": [
      "/opt/anaconda3/lib/python3.7/site-packages/ipykernel_launcher.py:4: FutureWarning: The default value of regex will change from True to False in a future version. In addition, single character regular expressions will *not* be treated as literal strings when regex=True.\n",
      "  after removing the cwd from sys.path.\n",
      "/opt/anaconda3/lib/python3.7/site-packages/ipykernel_launcher.py:6: FutureWarning: The default value of regex will change from True to False in a future version. In addition, single character regular expressions will *not* be treated as literal strings when regex=True.\n",
      "  \n",
      "/opt/anaconda3/lib/python3.7/site-packages/ipykernel_launcher.py:8: FutureWarning: The default value of regex will change from True to False in a future version. In addition, single character regular expressions will *not* be treated as literal strings when regex=True.\n",
      "  \n"
     ]
    }
   ],
   "source": [
    "# Convert string columns to appropriate numeric data types in training data\n",
    "# Covert X4-X7 from string to numeric by using pd.to_numeric \n",
    "# Remove Dollar sign by using str.replace function \n",
    "df_train['X4'] = df_train['X4'].str.replace('$', '')\n",
    "df_train['X4'] = pd.to_numeric(df_train['X4'].str.replace(',', ''))\n",
    "df_train['X5'] = df_train['X5'].str.replace('$', '')\n",
    "df_train['X5'] = pd.to_numeric(df_train['X5'].str.replace(',', ''))\n",
    "df_train['X6'] = df_train['X6'].str.replace('$', '')\n",
    "df_train['X6'] = pd.to_numeric(df_train['X6'].str.replace(',', ''))\n",
    "df_train['X7'] = pd.to_numeric(df_train['X7'].str.replace(' months', ''))"
   ]
  },
  {
   "cell_type": "code",
   "execution_count": 27,
   "metadata": {},
   "outputs": [],
   "source": [
    "# Convert string to interger type by using astype(int)\n",
    "# Replace x sign from X19\n",
    "df_train['X19'] = pd.to_numeric(df_train['X19'].str.replace('x', ''))\n",
    "df_train['X21'] = df_train['X21']/100 \n",
    "df_train['X13'] = df_train['X13'].astype(int) \n",
    "df_train['X22'] = df_train['X22'].astype(int)\n",
    "df_train['X24'] = df_train['X24'].astype(int) \n",
    "df_train['X27'] = df_train['X27'].astype(int) \n",
    "df_train['X28'] = df_train['X28'].astype(int) \n",
    "df_train['X29'] = df_train['X29'].astype(int) \n",
    "df_train['X30'] = df_train['X30'].str.replace('%', '')\n",
    "df_train['X30'] = pd.to_numeric(df_train['X30'].str.replace(',', ''))/100\n",
    "df_train['X31'] = df_train['X31'].astype(int) "
   ]
  },
  {
   "cell_type": "code",
   "execution_count": 28,
   "metadata": {},
   "outputs": [],
   "source": [
    "# Encoding to numeric data (X8,X14)\n",
    "code_numeric = {'not verified': 1, 'VERIFIED - income': 2, 'VERIFIED - income source': 3}\n",
    "\n",
    "df_train = df_train.applymap(lambda s: code_numeric.get(s) if s in code_numeric else s)\n",
    "df_test = df_test.applymap(lambda s: code_numeric.get(s) if s in code_numeric else s)\n"
   ]
  },
  {
   "cell_type": "code",
   "execution_count": 29,
   "metadata": {},
   "outputs": [],
   "source": [
    "# Encode X9\n",
    "# Create integer labels for categorical variables in training data\n",
    "# instatiate sklearn's labelencoder\n",
    "le = preprocessing.LabelEncoder()\n",
    "\n",
    "# fit label encorder and return encoded integer labels for categorical string features\n",
    "df_train['X9'] = le.fit_transform(df_train['X9'].values)\n",
    "df_train['X8'] = le.fit_transform(df_train['X8'].values)\n",
    "df_test['X9'] = le.fit_transform(df_test['X9'].values)\n",
    "df_test['X8'] = le.fit_transform(df_test['X8'].values)\n"
   ]
  },
  {
   "cell_type": "markdown",
   "metadata": {},
   "source": [
    "### Final Check on Data type of each column from train and test dataset"
   ]
  },
  {
   "cell_type": "code",
   "execution_count": 30,
   "metadata": {},
   "outputs": [
    {
     "name": "stdout",
     "output_type": "stream",
     "text": [
      "<class 'pandas.core.frame.DataFrame'>\n",
      "Int64Index: 242983 entries, 0 to 399999\n",
      "Data columns (total 18 columns):\n",
      " #   Column  Non-Null Count   Dtype  \n",
      "---  ------  --------------   -----  \n",
      " 0   X1      242983 non-null  float64\n",
      " 1   X4      242983 non-null  int64  \n",
      " 2   X5      242983 non-null  int64  \n",
      " 3   X6      242983 non-null  int64  \n",
      " 4   X7      242983 non-null  int64  \n",
      " 5   X8      242983 non-null  int64  \n",
      " 6   X9      242983 non-null  int64  \n",
      " 7   X13     242983 non-null  int64  \n",
      " 8   X14     242983 non-null  int64  \n",
      " 9   X19     242983 non-null  int64  \n",
      " 10  X21     242983 non-null  float64\n",
      " 11  X22     242983 non-null  int64  \n",
      " 12  X24     242983 non-null  int64  \n",
      " 13  X27     242983 non-null  int64  \n",
      " 14  X28     242983 non-null  int64  \n",
      " 15  X29     242983 non-null  int64  \n",
      " 16  X30     242983 non-null  float64\n",
      " 17  X31     242983 non-null  int64  \n",
      "dtypes: float64(3), int64(15)\n",
      "memory usage: 35.2 MB\n"
     ]
    },
    {
     "data": {
      "text/html": [
       "<div><div id=47b98cd2-9040-4b23-8965-951c312d1d33 style=\"display:none; background-color:#9D6CFF; color:white; width:200px; height:30px; padding-left:5px; border-radius:4px; flex-direction:row; justify-content:space-around; align-items:center;\" onmouseover=\"this.style.backgroundColor='#BA9BF8'\" onmouseout=\"this.style.backgroundColor='#9D6CFF'\" onclick=\"window.commands?.execute('create-mitosheet-from-dataframe-output');\">See Full Dataframe in Mito</div> <script> if (window.commands?.hasCommand('create-mitosheet-from-dataframe-output')) document.getElementById('47b98cd2-9040-4b23-8965-951c312d1d33').style.display = 'flex' </script> <table border=\"1\" class=\"dataframe\">\n",
       "  <thead>\n",
       "    <tr style=\"text-align: right;\">\n",
       "      <th></th>\n",
       "      <th>X1</th>\n",
       "      <th>X4</th>\n",
       "      <th>X5</th>\n",
       "      <th>X6</th>\n",
       "      <th>X7</th>\n",
       "      <th>X8</th>\n",
       "      <th>X9</th>\n",
       "      <th>X13</th>\n",
       "      <th>X14</th>\n",
       "      <th>X19</th>\n",
       "      <th>X21</th>\n",
       "      <th>X22</th>\n",
       "      <th>X24</th>\n",
       "      <th>X27</th>\n",
       "      <th>X28</th>\n",
       "      <th>X29</th>\n",
       "      <th>X30</th>\n",
       "      <th>X31</th>\n",
       "    </tr>\n",
       "  </thead>\n",
       "  <tbody>\n",
       "    <tr>\n",
       "      <th>0</th>\n",
       "      <td>0.1189</td>\n",
       "      <td>25000</td>\n",
       "      <td>25000</td>\n",
       "      <td>19080</td>\n",
       "      <td>36</td>\n",
       "      <td>1</td>\n",
       "      <td>8</td>\n",
       "      <td>85000</td>\n",
       "      <td>2</td>\n",
       "      <td>941</td>\n",
       "      <td>0.1948</td>\n",
       "      <td>0</td>\n",
       "      <td>0</td>\n",
       "      <td>10</td>\n",
       "      <td>0</td>\n",
       "      <td>28854</td>\n",
       "      <td>0.521</td>\n",
       "      <td>42</td>\n",
       "    </tr>\n",
       "    <tr>\n",
       "      <th>1</th>\n",
       "      <td>0.1071</td>\n",
       "      <td>7000</td>\n",
       "      <td>7000</td>\n",
       "      <td>673</td>\n",
       "      <td>36</td>\n",
       "      <td>1</td>\n",
       "      <td>9</td>\n",
       "      <td>65000</td>\n",
       "      <td>1</td>\n",
       "      <td>112</td>\n",
       "      <td>0.1429</td>\n",
       "      <td>0</td>\n",
       "      <td>0</td>\n",
       "      <td>7</td>\n",
       "      <td>0</td>\n",
       "      <td>33623</td>\n",
       "      <td>0.767</td>\n",
       "      <td>7</td>\n",
       "    </tr>\n",
       "    <tr>\n",
       "      <th>2</th>\n",
       "      <td>0.1699</td>\n",
       "      <td>25000</td>\n",
       "      <td>25000</td>\n",
       "      <td>24725</td>\n",
       "      <td>36</td>\n",
       "      <td>3</td>\n",
       "      <td>17</td>\n",
       "      <td>70000</td>\n",
       "      <td>2</td>\n",
       "      <td>100</td>\n",
       "      <td>0.1050</td>\n",
       "      <td>0</td>\n",
       "      <td>0</td>\n",
       "      <td>10</td>\n",
       "      <td>0</td>\n",
       "      <td>19878</td>\n",
       "      <td>0.663</td>\n",
       "      <td>17</td>\n",
       "    </tr>\n",
       "    <tr>\n",
       "      <th>3</th>\n",
       "      <td>0.1311</td>\n",
       "      <td>1200</td>\n",
       "      <td>1200</td>\n",
       "      <td>1200</td>\n",
       "      <td>36</td>\n",
       "      <td>2</td>\n",
       "      <td>11</td>\n",
       "      <td>54000</td>\n",
       "      <td>1</td>\n",
       "      <td>777</td>\n",
       "      <td>0.0547</td>\n",
       "      <td>0</td>\n",
       "      <td>0</td>\n",
       "      <td>5</td>\n",
       "      <td>0</td>\n",
       "      <td>2584</td>\n",
       "      <td>0.404</td>\n",
       "      <td>31</td>\n",
       "    </tr>\n",
       "    <tr>\n",
       "      <th>4</th>\n",
       "      <td>0.1357</td>\n",
       "      <td>10800</td>\n",
       "      <td>10800</td>\n",
       "      <td>10692</td>\n",
       "      <td>36</td>\n",
       "      <td>2</td>\n",
       "      <td>12</td>\n",
       "      <td>32000</td>\n",
       "      <td>1</td>\n",
       "      <td>67</td>\n",
       "      <td>0.1163</td>\n",
       "      <td>0</td>\n",
       "      <td>1</td>\n",
       "      <td>14</td>\n",
       "      <td>0</td>\n",
       "      <td>3511</td>\n",
       "      <td>0.256</td>\n",
       "      <td>40</td>\n",
       "    </tr>\n",
       "  </tbody>\n",
       "</table></div>"
      ],
      "text/plain": [
       "       X1     X4     X5     X6  X7  X8  X9    X13  X14  X19     X21  X22  X24  \\\n",
       "0  0.1189  25000  25000  19080  36   1   8  85000    2  941  0.1948    0    0   \n",
       "1  0.1071   7000   7000    673  36   1   9  65000    1  112  0.1429    0    0   \n",
       "2  0.1699  25000  25000  24725  36   3  17  70000    2  100  0.1050    0    0   \n",
       "3  0.1311   1200   1200   1200  36   2  11  54000    1  777  0.0547    0    0   \n",
       "4  0.1357  10800  10800  10692  36   2  12  32000    1   67  0.1163    0    1   \n",
       "\n",
       "   X27  X28    X29    X30  X31  \n",
       "0   10    0  28854  0.521   42  \n",
       "1    7    0  33623  0.767    7  \n",
       "2   10    0  19878  0.663   17  \n",
       "3    5    0   2584  0.404   31  \n",
       "4   14    0   3511  0.256   40  "
      ]
     },
     "execution_count": 30,
     "metadata": {},
     "output_type": "execute_result"
    }
   ],
   "source": [
    "df_train.info()\n",
    "df_train.head()"
   ]
  },
  {
   "cell_type": "code",
   "execution_count": 31,
   "metadata": {},
   "outputs": [
    {
     "data": {
      "text/html": [
       "<div><div id=96390071-ea12-4bc1-8016-7d3bf4c4d860 style=\"display:none; background-color:#9D6CFF; color:white; width:200px; height:30px; padding-left:5px; border-radius:4px; flex-direction:row; justify-content:space-around; align-items:center;\" onmouseover=\"this.style.backgroundColor='#BA9BF8'\" onmouseout=\"this.style.backgroundColor='#9D6CFF'\" onclick=\"window.commands?.execute('create-mitosheet-from-dataframe-output');\">See Full Dataframe in Mito</div> <script> if (window.commands?.hasCommand('create-mitosheet-from-dataframe-output')) document.getElementById('96390071-ea12-4bc1-8016-7d3bf4c4d860').style.display = 'flex' </script> <table border=\"1\" class=\"dataframe\">\n",
       "  <thead>\n",
       "    <tr style=\"text-align: right;\">\n",
       "      <th></th>\n",
       "      <th>X1</th>\n",
       "      <th>X4</th>\n",
       "      <th>X5</th>\n",
       "      <th>X6</th>\n",
       "      <th>X7</th>\n",
       "      <th>X8</th>\n",
       "      <th>X9</th>\n",
       "      <th>X13</th>\n",
       "      <th>X14</th>\n",
       "      <th>X19</th>\n",
       "      <th>X21</th>\n",
       "      <th>X22</th>\n",
       "      <th>X24</th>\n",
       "      <th>X27</th>\n",
       "      <th>X28</th>\n",
       "      <th>X29</th>\n",
       "      <th>X30</th>\n",
       "      <th>X31</th>\n",
       "    </tr>\n",
       "  </thead>\n",
       "  <tbody>\n",
       "    <tr>\n",
       "      <th>count</th>\n",
       "      <td>242983.000000</td>\n",
       "      <td>242983.000000</td>\n",
       "      <td>242983.000000</td>\n",
       "      <td>242983.000000</td>\n",
       "      <td>242983.0000</td>\n",
       "      <td>242983.000000</td>\n",
       "      <td>242983.000000</td>\n",
       "      <td>2.429830e+05</td>\n",
       "      <td>242983.000000</td>\n",
       "      <td>242983.000000</td>\n",
       "      <td>242983.000000</td>\n",
       "      <td>242983.000000</td>\n",
       "      <td>242983.000000</td>\n",
       "      <td>242983.000000</td>\n",
       "      <td>242983.000000</td>\n",
       "      <td>2.429830e+05</td>\n",
       "      <td>242983.000000</td>\n",
       "      <td>242983.000000</td>\n",
       "    </tr>\n",
       "    <tr>\n",
       "      <th>mean</th>\n",
       "      <td>0.139406</td>\n",
       "      <td>14267.531062</td>\n",
       "      <td>14237.459102</td>\n",
       "      <td>14163.732150</td>\n",
       "      <td>42.4365</td>\n",
       "      <td>1.812530</td>\n",
       "      <td>11.041484</td>\n",
       "      <td>7.312063e+04</td>\n",
       "      <td>1.986308</td>\n",
       "      <td>514.726899</td>\n",
       "      <td>0.170043</td>\n",
       "      <td>0.275233</td>\n",
       "      <td>0.818831</td>\n",
       "      <td>11.120967</td>\n",
       "      <td>0.153064</td>\n",
       "      <td>1.594181e+04</td>\n",
       "      <td>0.562925</td>\n",
       "      <td>24.979838</td>\n",
       "    </tr>\n",
       "    <tr>\n",
       "      <th>std</th>\n",
       "      <td>0.043811</td>\n",
       "      <td>8260.262613</td>\n",
       "      <td>8246.054200</td>\n",
       "      <td>8270.265388</td>\n",
       "      <td>10.6324</td>\n",
       "      <td>1.320213</td>\n",
       "      <td>6.531771</td>\n",
       "      <td>5.657148e+04</td>\n",
       "      <td>0.790897</td>\n",
       "      <td>316.807345</td>\n",
       "      <td>0.076893</td>\n",
       "      <td>0.784393</td>\n",
       "      <td>1.060841</td>\n",
       "      <td>4.887522</td>\n",
       "      <td>0.519584</td>\n",
       "      <td>1.923258e+04</td>\n",
       "      <td>0.237849</td>\n",
       "      <td>11.468621</td>\n",
       "    </tr>\n",
       "    <tr>\n",
       "      <th>min</th>\n",
       "      <td>0.054200</td>\n",
       "      <td>500.000000</td>\n",
       "      <td>500.000000</td>\n",
       "      <td>0.000000</td>\n",
       "      <td>36.0000</td>\n",
       "      <td>0.000000</td>\n",
       "      <td>0.000000</td>\n",
       "      <td>3.000000e+03</td>\n",
       "      <td>1.000000</td>\n",
       "      <td>7.000000</td>\n",
       "      <td>0.000000</td>\n",
       "      <td>0.000000</td>\n",
       "      <td>0.000000</td>\n",
       "      <td>1.000000</td>\n",
       "      <td>0.000000</td>\n",
       "      <td>0.000000e+00</td>\n",
       "      <td>0.000000</td>\n",
       "      <td>2.000000</td>\n",
       "    </tr>\n",
       "    <tr>\n",
       "      <th>25%</th>\n",
       "      <td>0.109900</td>\n",
       "      <td>8000.000000</td>\n",
       "      <td>8000.000000</td>\n",
       "      <td>8000.000000</td>\n",
       "      <td>36.0000</td>\n",
       "      <td>1.000000</td>\n",
       "      <td>6.000000</td>\n",
       "      <td>4.500000e+04</td>\n",
       "      <td>1.000000</td>\n",
       "      <td>223.000000</td>\n",
       "      <td>0.112700</td>\n",
       "      <td>0.000000</td>\n",
       "      <td>0.000000</td>\n",
       "      <td>8.000000</td>\n",
       "      <td>0.000000</td>\n",
       "      <td>6.465000e+03</td>\n",
       "      <td>0.394000</td>\n",
       "      <td>17.000000</td>\n",
       "    </tr>\n",
       "    <tr>\n",
       "      <th>50%</th>\n",
       "      <td>0.136800</td>\n",
       "      <td>12000.000000</td>\n",
       "      <td>12000.000000</td>\n",
       "      <td>12000.000000</td>\n",
       "      <td>36.0000</td>\n",
       "      <td>2.000000</td>\n",
       "      <td>10.000000</td>\n",
       "      <td>6.274400e+04</td>\n",
       "      <td>2.000000</td>\n",
       "      <td>480.000000</td>\n",
       "      <td>0.167100</td>\n",
       "      <td>0.000000</td>\n",
       "      <td>0.000000</td>\n",
       "      <td>10.000000</td>\n",
       "      <td>0.000000</td>\n",
       "      <td>1.177400e+04</td>\n",
       "      <td>0.579000</td>\n",
       "      <td>23.000000</td>\n",
       "    </tr>\n",
       "    <tr>\n",
       "      <th>75%</th>\n",
       "      <td>0.167800</td>\n",
       "      <td>20000.000000</td>\n",
       "      <td>20000.000000</td>\n",
       "      <td>19875.000000</td>\n",
       "      <td>60.0000</td>\n",
       "      <td>3.000000</td>\n",
       "      <td>15.000000</td>\n",
       "      <td>8.800000e+04</td>\n",
       "      <td>3.000000</td>\n",
       "      <td>826.000000</td>\n",
       "      <td>0.225000</td>\n",
       "      <td>0.000000</td>\n",
       "      <td>1.000000</td>\n",
       "      <td>14.000000</td>\n",
       "      <td>0.000000</td>\n",
       "      <td>2.022100e+04</td>\n",
       "      <td>0.749000</td>\n",
       "      <td>32.000000</td>\n",
       "    </tr>\n",
       "    <tr>\n",
       "      <th>max</th>\n",
       "      <td>0.260600</td>\n",
       "      <td>35000.000000</td>\n",
       "      <td>35000.000000</td>\n",
       "      <td>35000.000000</td>\n",
       "      <td>60.0000</td>\n",
       "      <td>6.000000</td>\n",
       "      <td>34.000000</td>\n",
       "      <td>7.500000e+06</td>\n",
       "      <td>3.000000</td>\n",
       "      <td>999.000000</td>\n",
       "      <td>0.399900</td>\n",
       "      <td>29.000000</td>\n",
       "      <td>8.000000</td>\n",
       "      <td>62.000000</td>\n",
       "      <td>63.000000</td>\n",
       "      <td>2.568995e+06</td>\n",
       "      <td>8.923000</td>\n",
       "      <td>118.000000</td>\n",
       "    </tr>\n",
       "  </tbody>\n",
       "</table></div>"
      ],
      "text/plain": [
       "                  X1             X4             X5             X6  \\\n",
       "count  242983.000000  242983.000000  242983.000000  242983.000000   \n",
       "mean        0.139406   14267.531062   14237.459102   14163.732150   \n",
       "std         0.043811    8260.262613    8246.054200    8270.265388   \n",
       "min         0.054200     500.000000     500.000000       0.000000   \n",
       "25%         0.109900    8000.000000    8000.000000    8000.000000   \n",
       "50%         0.136800   12000.000000   12000.000000   12000.000000   \n",
       "75%         0.167800   20000.000000   20000.000000   19875.000000   \n",
       "max         0.260600   35000.000000   35000.000000   35000.000000   \n",
       "\n",
       "                X7             X8             X9           X13            X14  \\\n",
       "count  242983.0000  242983.000000  242983.000000  2.429830e+05  242983.000000   \n",
       "mean       42.4365       1.812530      11.041484  7.312063e+04       1.986308   \n",
       "std        10.6324       1.320213       6.531771  5.657148e+04       0.790897   \n",
       "min        36.0000       0.000000       0.000000  3.000000e+03       1.000000   \n",
       "25%        36.0000       1.000000       6.000000  4.500000e+04       1.000000   \n",
       "50%        36.0000       2.000000      10.000000  6.274400e+04       2.000000   \n",
       "75%        60.0000       3.000000      15.000000  8.800000e+04       3.000000   \n",
       "max        60.0000       6.000000      34.000000  7.500000e+06       3.000000   \n",
       "\n",
       "                 X19            X21            X22            X24  \\\n",
       "count  242983.000000  242983.000000  242983.000000  242983.000000   \n",
       "mean      514.726899       0.170043       0.275233       0.818831   \n",
       "std       316.807345       0.076893       0.784393       1.060841   \n",
       "min         7.000000       0.000000       0.000000       0.000000   \n",
       "25%       223.000000       0.112700       0.000000       0.000000   \n",
       "50%       480.000000       0.167100       0.000000       0.000000   \n",
       "75%       826.000000       0.225000       0.000000       1.000000   \n",
       "max       999.000000       0.399900      29.000000       8.000000   \n",
       "\n",
       "                 X27            X28           X29            X30  \\\n",
       "count  242983.000000  242983.000000  2.429830e+05  242983.000000   \n",
       "mean       11.120967       0.153064  1.594181e+04       0.562925   \n",
       "std         4.887522       0.519584  1.923258e+04       0.237849   \n",
       "min         1.000000       0.000000  0.000000e+00       0.000000   \n",
       "25%         8.000000       0.000000  6.465000e+03       0.394000   \n",
       "50%        10.000000       0.000000  1.177400e+04       0.579000   \n",
       "75%        14.000000       0.000000  2.022100e+04       0.749000   \n",
       "max        62.000000      63.000000  2.568995e+06       8.923000   \n",
       "\n",
       "                 X31  \n",
       "count  242983.000000  \n",
       "mean       24.979838  \n",
       "std        11.468621  \n",
       "min         2.000000  \n",
       "25%        17.000000  \n",
       "50%        23.000000  \n",
       "75%        32.000000  \n",
       "max       118.000000  "
      ]
     },
     "execution_count": 31,
     "metadata": {},
     "output_type": "execute_result"
    }
   ],
   "source": [
    "df_train.describe()"
   ]
  },
  {
   "cell_type": "code",
   "execution_count": 32,
   "metadata": {},
   "outputs": [
    {
     "name": "stderr",
     "output_type": "stream",
     "text": [
      "/opt/anaconda3/lib/python3.7/site-packages/ipykernel_launcher.py:2: FutureWarning: The default value of regex will change from True to False in a future version. In addition, single character regular expressions will *not* be treated as literal strings when regex=True.\n",
      "  \n",
      "/opt/anaconda3/lib/python3.7/site-packages/ipykernel_launcher.py:4: FutureWarning: The default value of regex will change from True to False in a future version. In addition, single character regular expressions will *not* be treated as literal strings when regex=True.\n",
      "  after removing the cwd from sys.path.\n",
      "/opt/anaconda3/lib/python3.7/site-packages/ipykernel_launcher.py:6: FutureWarning: The default value of regex will change from True to False in a future version. In addition, single character regular expressions will *not* be treated as literal strings when regex=True.\n",
      "  \n"
     ]
    }
   ],
   "source": [
    "# Convert test set data from string to numeric\n",
    "df_test['X4'] = df_test['X4'].str.replace('$', '')\n",
    "df_test['X4'] = pd.to_numeric(df_test['X4'].str.replace(',', ''))\n",
    "df_test['X5'] = df_test['X5'].str.replace('$', '')\n",
    "df_test['X5'] = pd.to_numeric(df_test['X5'].str.replace(',', ''))\n",
    "df_test['X6'] = df_test['X6'].str.replace('$', '')\n",
    "df_test['X6'] = pd.to_numeric(df_test['X6'].str.replace(',', ''))\n",
    "df_test['X7'] = pd.to_numeric(df_test['X7'].str.replace(' months', ''))\n",
    "df_test['X19'] = pd.to_numeric(df_test['X19'].str.replace('x', ''))\n",
    "df_test['X21'] = df_test['X21']/100 # convert dti percentage to ratio\n",
    "df_test['X13'] = df_test['X13'].astype(int) # convert to interger type\n",
    "df_test['X30'] = df_test['X30']/100 # convert revolving utilization to ratio"
   ]
  },
  {
   "cell_type": "markdown",
   "metadata": {},
   "source": [
    "# Machine Learning"
   ]
  },
  {
   "cell_type": "code",
   "execution_count": 33,
   "metadata": {},
   "outputs": [],
   "source": [
    "# Seperate x, y predictor\n",
    "y = df_train['X1']\n",
    "X = df_train.drop(['X1'],axis=1)"
   ]
  },
  {
   "cell_type": "code",
   "execution_count": 35,
   "metadata": {},
   "outputs": [
    {
     "name": "stdout",
     "output_type": "stream",
     "text": [
      "RMSE on training data:  0.009089491738139825\n"
     ]
    }
   ],
   "source": [
    "# Linear Regression Model \n",
    "model = LinearRegression()\n",
    "model.fit(X, y)\n",
    "# use trained Linear regression model to predict interest rates of training and test data\n",
    "train_pred = model.predict(X)\n",
    "\n",
    "LR_test_pred = model.predict(df_test)\n",
    "\n",
    "# LR_test_pred = absolute(scores)\n",
    "# print RMSE of training predictions\n",
    "print('RMSE on training data: ', np.sqrt(mean_squared_error(y, train_pred)))"
   ]
  },
  {
   "cell_type": "code",
   "execution_count": 37,
   "metadata": {},
   "outputs": [
    {
     "name": "stdout",
     "output_type": "stream",
     "text": [
      "RMSE on training data:  0.042804183797462224\n"
     ]
    }
   ],
   "source": [
    "# Lasso Regression Model\n",
    "model2 = Lasso(alpha=1.0)\n",
    "# define model evaluation method\n",
    "cv = RepeatedKFold(n_splits=10, n_repeats=3, random_state=1)\n",
    "# use trained Lasso regression model to predict interest rates of training and test data\n",
    "model2.fit(X, y)\n",
    "train_pred2=model2.predict(X)\n",
    "# evaluate model\n",
    "Lasso_test_pred = cross_val_score(model2, X, y, scoring='neg_mean_absolute_error', cv=cv, n_jobs=-1)\n",
    "# force scores to be positive\n",
    "# Lasso_test_pred = absolute(scores)\n",
    "print('RMSE on training data: ', np.sqrt(mean_squared_error(y, train_pred2)))"
   ]
  },
  {
   "cell_type": "code",
   "execution_count": 39,
   "metadata": {},
   "outputs": [
    {
     "name": "stdout",
     "output_type": "stream",
     "text": [
      "RMSE on training data:  0.0067954824034316035\n"
     ]
    }
   ],
   "source": [
    "# XGBoost Regression\n",
    "import xgboost as xgb\n",
    "#  Build model 3 using xgb regressor\n",
    "model3=xgb.XGBRegressor()\n",
    "# Fit model with data set\n",
    "model3.fit(X,y)\n",
    "# Prediction\n",
    "train_pred3=model3.predict(X)\n",
    "# Predicted on Test dataset\n",
    "XGBR_test_pred = model3.predict(df_test)\n",
    "# Prediction score\n",
    "# XGBR_test_pred = absolute(scores)\n",
    "print('RMSE on training data: ', np.sqrt(mean_squared_error(y, train_pred3)))"
   ]
  },
  {
   "cell_type": "code",
   "execution_count": 40,
   "metadata": {},
   "outputs": [],
   "source": [
    "# write out csv for each model's test predictions\n",
    "XGBR_test_pred = pd.DataFrame(XGBR_test_pred, columns=['XGBRPredictions'])\n",
    "\n",
    "test_predictions = XGBR_test_pred\n",
    "\n",
    "test_predictions.to_csv(\"Results from cctsai5 2.csv\")"
   ]
  },
  {
   "cell_type": "markdown",
   "metadata": {},
   "source": [
    "# Discussion on Model Selection and result"
   ]
  },
  {
   "cell_type": "markdown",
   "metadata": {},
   "source": [
    "Based on RMSE from Linear,Lasso,and XGBoost regression, we can observe that XGBoost regression has the lowest RMSE score,which performs the best and Lasso Regression has the highest score, which performs the worst.Therefore, I pick XGBoost Regression as the final model selection and print out the prediction score on each column."
   ]
  }
 ],
 "metadata": {
  "kernelspec": {
   "display_name": "Python 3 (ipykernel)",
   "language": "python",
   "name": "python3"
  },
  "language_info": {
   "codemirror_mode": {
    "name": "ipython",
    "version": 3
   },
   "file_extension": ".py",
   "mimetype": "text/x-python",
   "name": "python",
   "nbconvert_exporter": "python",
   "pygments_lexer": "ipython3",
   "version": "3.7.4"
  }
 },
 "nbformat": 4,
 "nbformat_minor": 2
}
